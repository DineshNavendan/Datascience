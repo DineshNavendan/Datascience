{
 "cells": [
  {
   "cell_type": "raw",
   "metadata": {},
   "source": []
  },
  {
   "cell_type": "raw",
   "metadata": {},
   "source": [
    "Framework/Approach to do EDA :\n",
    "1. Understand the Problem statement -\n",
    "\n",
    "What are the factors and their influence rate that impact the absenteesim.\n",
    "\n",
    "2. Understand the context of the dataset - \n",
    "This dataset does not give the regular attendence of the employees, rather it just provides the employee information who have been absent over a period of time.\n",
    "The absentism dataset gives the information of the employee Identification who are absent for various reasons and their time of absence in hours in a specific month which is spread across multiple days of the week. The dataset provides additional information such as each individual employee driving distance from home to work and their associated transportation expense. Also, gives the personal information of individual employee's  such as their age, education,lifestye(drinking,smoking behaviors, no of children, no of pets), how long each of them have been in service and obesity(height,weight,BMI). This dataset also says if the emplyoee had a disciplinary failure action.\n",
    "\n",
    "3. Get to know the dataset:\n",
    "   a. Data Profiling\n",
    "   b. Data Types of the features\n",
    "   c. Data Distribution  -- Sridevi\n",
    "   d. Missing Values -- percentage of the missing the values -- Sridevi\n",
    "   e. Outliers -- How to identify the ourliers Anamolies, 3 ways -- Sridevi\n",
    "   f. baseline \n",
    "   \n",
    "***Keep in mind understanding the data pattern is very critical and at this stage what you think of the data is key rather than proving to others.\n",
    "\n",
    "4.Transforming the data (Kiran) \n",
    "   a. rename the columns for examples\n",
    "   b. treatment of the missing values\n",
    "   c. treatment of outliers\n",
    "   d. converting to text\n",
    "   e. creation of multiple column based on the need\n",
    "\n",
    "\n",
    "5. Insights using plots(Venkat/Dinesh)\n",
    "  a. Categorical features -- what plots generally do we use\n",
    "  b. Numerical features -- what plots\n",
    "  c. Bi-varaint Analysis\n",
    "      i. between numerical variables -- Regression plot\n",
    "      ii. between catrgory variable and numberical variable --??\n",
    "   d. Multi-variant analysis \n",
    "   e. Additional tools\n",
    "       1. Value_counts\n",
    "       2. filter the data based on a condition\n",
    "       3. Grouping and summarizing\n",
    "       4. select only subset of the columns to build a dataframe\n",
    "   \n",
    "Pareto principle ?? (follow up with Babu)\n",
    "   \n",
    " 6. Presentation (All)\n",
    "  a. \n",
    "   \n",
    "   \n",
    "   \n",
    "baseline??\n",
    "% of the employees being absent??\n"
   ]
  },
  {
   "cell_type": "markdown",
   "metadata": {},
   "source": [
    "3.a Data Profiling tells us about the data distribution and paves the path to do univariant analysis - tools to profile the data\n",
    "1. Code snippet\n",
    "import pandas_profiling\n",
    "profile = filtered_dataset_absentism.profile_report(title='Pandas Profiling Report', \\\n",
    "                                                   plot={'histogram': {'bins':8}})\n",
    "profile.to_file(output_file=\"output.html\")\n",
    "\n",
    "The generated repot will be written to the same location of the juputer notebook is saved.\n",
    "Analysis of this report, give us univariant analysis of each variable such as - \n",
    " : employees with reason beyond \"20\" are likely to have more absentism compared to other reasons. \n",
    " : Employees are likely to be absent more on Monday and Wednesday rather than Thursday.\n",
    " : Transportation expense between 150 - 200 dollars have more absentism\n",
    " : Driving distance greater than 50 have more absentism\n",
    " : Service time greater than 10 are absent more. \n",
    " : High Schoolers have more absentism\n",
    " : Social drinker are more absent\n",
    " : Social smokers are absent less(interesting insight)\n",
    " : Employees with zero pets are likely to be more absent(interesting point)\n",
    "\n",
    "2. Use the URL databasic.io \n",
    "\n",
    "Go to the databasic.io and upload the dataset in excel format. This websites generates the data profiling report for us.\n",
    "\n",
    "\n"
   ]
  },
  {
   "cell_type": "markdown",
   "metadata": {},
   "source": [
    "3.b Data Types of features :\n",
    "dataframe.info()\n",
    "\n",
    "Identify the features that are categorical vs Boolean Vs Numeric\n",
    "\n",
    "categorical:\n",
    "categorical_features = [col for col in absent_data_processed.columns \\\n",
    "                        if pd.api.types \\\n",
    "                        .is_string_dtype(absent_data_processed[col])]\n",
    "print(categorical_features)\n",
    "\n",
    "\n",
    "Numeric:\n",
    "non_categorical_features = [col for col in absent_data_processed.columns \\\n",
    "                        if not pd.api.types \\\n",
    "                        .is_string_dtype(absent_data_processed[col])]\n",
    "print(non_categorical_features)"
   ]
  },
  {
   "cell_type": "markdown",
   "metadata": {},
   "source": [
    "3.c Data Distribution\n",
    "\n"
   ]
  },
  {
   "cell_type": "markdown",
   "metadata": {},
   "source": []
  },
  {
   "cell_type": "markdown",
   "metadata": {},
   "source": []
  },
  {
   "cell_type": "code",
   "execution_count": null,
   "metadata": {},
   "outputs": [],
   "source": []
  },
  {
   "cell_type": "code",
   "execution_count": null,
   "metadata": {},
   "outputs": [],
   "source": []
  },
  {
   "cell_type": "code",
   "execution_count": null,
   "metadata": {},
   "outputs": [],
   "source": []
  },
  {
   "cell_type": "code",
   "execution_count": null,
   "metadata": {},
   "outputs": [],
   "source": []
  },
  {
   "cell_type": "code",
   "execution_count": null,
   "metadata": {},
   "outputs": [],
   "source": []
  },
  {
   "cell_type": "markdown",
   "metadata": {},
   "source": []
  },
  {
   "cell_type": "code",
   "execution_count": null,
   "metadata": {},
   "outputs": [],
   "source": []
  }
 ],
 "metadata": {
  "kernelspec": {
   "display_name": "Python 3",
   "language": "python",
   "name": "python3"
  },
  "language_info": {
   "codemirror_mode": {
    "name": "ipython",
    "version": 3
   },
   "file_extension": ".py",
   "mimetype": "text/x-python",
   "name": "python",
   "nbconvert_exporter": "python",
   "pygments_lexer": "ipython3",
   "version": "3.7.6"
  }
 },
 "nbformat": 4,
 "nbformat_minor": 4
}
