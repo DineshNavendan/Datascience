{
 "cells": [
  {
   "cell_type": "markdown",
   "metadata": {},
   "source": [
    "## Natural Language Processing"
   ]
  },
  {
   "cell_type": "markdown",
   "metadata": {},
   "source": [
    "Applications:\n",
    "\n",
    "- Text Classification\n",
    "- Information Extraction\n",
    "- Conversational Agent\n",
    "- Information Retrieval\n",
    "- QA Systems\n",
    "- Text Summarization\n",
    "- Topic Modelling\n",
    "- Lanuguage Translations"
   ]
  },
  {
   "cell_type": "code",
   "execution_count": 1,
   "metadata": {},
   "outputs": [],
   "source": [
    "from IPython.display import Image\n",
    "from IPython.core.display import HTML "
   ]
  },
  {
   "cell_type": "code",
   "execution_count": 2,
   "metadata": {},
   "outputs": [
    {
     "data": {
      "text/html": [
       "<img src=\"nlptasks.png\"/>"
      ],
      "text/plain": [
       "<IPython.core.display.Image object>"
      ]
     },
     "execution_count": 2,
     "metadata": {},
     "output_type": "execute_result"
    }
   ],
   "source": [
    "Image(url= \"nlptasks.png\")"
   ]
  },
  {
   "cell_type": "code",
   "execution_count": 3,
   "metadata": {},
   "outputs": [
    {
     "data": {
      "text/html": [
       "<img src=\"buildingblocks.png\"/>"
      ],
      "text/plain": [
       "<IPython.core.display.Image object>"
      ]
     },
     "execution_count": 3,
     "metadata": {},
     "output_type": "execute_result"
    }
   ],
   "source": [
    "Image(url= \"buildingblocks.png\")"
   ]
  },
  {
   "cell_type": "markdown",
   "metadata": {},
   "source": [
    "## NLP Pipeline"
   ]
  },
  {
   "cell_type": "code",
   "execution_count": 4,
   "metadata": {},
   "outputs": [
    {
     "data": {
      "text/html": [
       "<img src=\"nlp_pipeline.png\"/>"
      ],
      "text/plain": [
       "<IPython.core.display.Image object>"
      ]
     },
     "execution_count": 4,
     "metadata": {},
     "output_type": "execute_result"
    }
   ],
   "source": [
    "Image(url= \"nlp_pipeline.png\")"
   ]
  },
  {
   "cell_type": "markdown",
   "metadata": {},
   "source": [
    "#### Data Acquisition"
   ]
  },
  {
   "cell_type": "markdown",
   "metadata": {},
   "source": [
    "- Public Dataset\n",
    "- Web Scraping\n",
    "- Enterprise Dataset\n"
   ]
  },
  {
   "cell_type": "markdown",
   "metadata": {},
   "source": [
    "#### Text Cleaning"
   ]
  },
  {
   "cell_type": "markdown",
   "metadata": {},
   "source": [
    "- Parsing(HTML)\n",
    "- Unicode Normalization\n",
    "- Spelling Correction\n",
    "- System-Specific Error Correction\n"
   ]
  },
  {
   "cell_type": "code",
   "execution_count": 6,
   "metadata": {},
   "outputs": [
    {
     "name": "stdout",
     "output_type": "stream",
     "text": [
      "<div class=\"question\" data-questionid=\"415511\" id=\"question\">\n",
      "<style>\n",
      "</style>\n",
      "<div class=\"js-zone-container zone-container-main\">\n",
      "<div class=\"everyonelovesstackoverflow everyoneloves__top-leaderboard everyoneloves__leaderboard\" id=\"dfp-tlb\"></div>\n",
      "<div class=\"js-report-ad-button-container\" style=\"width: 728px\"></div>\n",
      "</div>\n",
      "<div class=\"post-layout\">\n",
      "<div class=\"votecell post-layout--left\">\n",
      "<div class=\"js-voting-container grid jc-center fd-column ai-stretch gs4 fc-black-200\" data-post-id=\"415511\">\n",
      "<button aria-label=\"Up vote\" aria-pressed=\"false\" class=\"js-vote-up-btn grid--cell s-btn s-btn__unset c-pointer\" data-controller=\"s-tooltip\" data-s-tooltip-placement=\"right\" data-selected-classes=\"fc-theme-primary\" title=\"This question shows research effort; it is useful and clear\"><svg aria-hidden=\"true\" class=\"m0 svg-icon iconArrowUpLg\" height=\"36\" viewbox=\"0 0 36 36\" width=\"36\"><path d=\"M2 26h32L18 10 2 26z\"></path></svg></button>\n",
      "<div class=\"js-vote-count grid--cell fc-black-500 fs-title grid fd-column ai-center\" data-value=\"3084\" itemprop=\"upvoteCount\">3084</div>\n",
      "<button aria-label=\"Down vote\" aria-pressed=\"false\" class=\"js-vote-down-btn grid--cell s-btn s-btn__unset c-pointer\" data-controller=\"s-tooltip\" data-s-tooltip-placement=\"right\" data-selected-classes=\"fc-theme-primary\" title=\"This question does not show any research effort; it is unclear or not useful\"><svg aria-hidden=\"true\" class=\"m0 svg-icon iconArrowDownLg\" height=\"36\" viewbox=\"0 0 36 36\" width=\"36\"><path d=\"M2 10h32L18 26 2 10z\"></path></svg></button>\n",
      "<button aria-label=\"Bookmark (473)\" aria-pressed=\"false\" class=\"js-bookmark-btn s-btn s-btn__unset c-pointer py4 js-gps-track\" data-controller=\"s-tooltip\" data-gps-track=\"post.click({ item: 1, priv: 0, post_type: 1 })\" data-s-tooltip-placement=\"right\" data-selected-classes=\"fc-yellow-600\" title=\"Bookmark this question.\">\n",
      "<svg aria-hidden=\"true\" class=\"svg-icon iconBookmark\" height=\"18\" viewbox=\"0 0 18 18\" width=\"18\"><path d=\"M6 1a2 2 0 00-2 2v14l5-4 5 4V3a2 2 0 00-2-2H6zm3.9 3.83h2.9l-2.35 1.7.9 2.77L9 7.59l-2.35 1.7.9-2.76-2.35-1.7h2.9L9 2.06l.9 2.77z\"></path></svg>\n",
      "<div class=\"js-bookmark-count mt4\" data-value=\"473\">473</div>\n",
      "</button>\n",
      "<a aria-label=\"Timeline\" class=\"js-post-issue grid--cell s-btn s-btn__unset c-pointer py6 mx-auto\" data-controller=\"s-tooltip\" data-s-tooltip-placement=\"right\" data-shortcut=\"T\" href=\"/posts/415511/timeline\" title=\"Show activity on this post.\"><svg aria-hidden=\"true\" class=\"mln2 mr0 svg-icon iconHistory\" height=\"18\" viewbox=\"0 0 19 18\" width=\"19\"><path d=\"M3 9a8 8 0 113.73 6.77L8.2 14.3A6 6 0 105 9l3.01-.01-4 4-4-4h3L3 9zm7-4h1.01L11 9.36l3.22 2.1-.6.93L10 10V5z\"></path></svg></a>\n",
      "</div>\n",
      "</div>\n",
      "<div class=\"postcell post-layout--right\">\n",
      "<div class=\"s-prose js-post-body\" itemprop=\"text\">\n",
      "<p>What is the module/method used to get the current time?</p>\n",
      "</div>\n",
      "<div class=\"mt24 mb12\">\n",
      "<div class=\"post-taglist grid gs4 gsy fd-column\">\n",
      "<div class=\"grid ps-relative\">\n",
      "<a class=\"post-tag\" href=\"/questions/tagged/python\" rel=\"tag\" title=\"show questions tagged 'python'\">python</a> <a class=\"post-tag\" href=\"/questions/tagged/datetime\" rel=\"tag\" title=\"show questions tagged 'datetime'\">datetime</a> <a class=\"post-tag\" href=\"/questions/tagged/time\" rel=\"tag\" title=\"show questions tagged 'time'\">time</a>\n",
      "</div>\n",
      "</div>\n",
      "</div>\n",
      "<div class=\"mb0\">\n",
      "<div class=\"mt16 grid gs8 gsy fw-wrap jc-end ai-start pt4\">\n",
      "<div class=\"grid--cell mr16\" style=\"flex: 1 1 100px;\">\n",
      "<div class=\"post-menu\">\n",
      "<a class=\"js-share-link js-gps-track\" data-controller=\"se-share-sheet\" data-gps-track=\"post.click({ item: 2, priv: 0, post_type: 1 })\" data-s-popover-placement=\"bottom-start\" data-se-share-sheet-license-name=\"CC BY-SA 4.0\" data-se-share-sheet-license-url=\"https%3a%2f%2fcreativecommons.org%2flicenses%2fby-sa%2f4.0%2f\" data-se-share-sheet-location=\"1\" data-se-share-sheet-post-type=\"question\" data-se-share-sheet-social=\"facebook twitter devto\" data-se-share-sheet-subtitle=\"\" data-se-share-sheet-title=\"Share a link to this question\" href=\"/q/415511\" itemprop=\"url\" rel=\"nofollow\" title=\"short permalink to this question\">share</a>\n",
      "<span class=\"lsep\">|</span>\n",
      "<button aria-controls=\"\" class=\"s-btn s-btn__link fc-black-400 h:fc-black-700 pb2 js-follow-post js-follow-question js-gps-track\" data-controller=\"s-tooltip \" data-gps-track=\"post.click({ item: 14, priv: 0, post_type: 1 })\" data-s-popover-placement=\"bottom\" data-s-tooltip-placement=\"bottom\" id=\"btnFollowPost-415511\" role=\"button\" title=\"Follow this question to receive notifications\">\r\n",
      "        follow\r\n",
      "    </button>\n",
      "<span class=\"lsep\">|</span>\n",
      "</div>\n",
      "</div>\n",
      "<div class=\"post-signature grid--cell\">\n",
      "<div class=\"user-info user-hover\">\n",
      "<div class=\"user-action-time\">\n",
      "<a class=\"js-gps-track\" data-gps-track=\"post.click({ item: 4, priv: 0, post_type: 1 })\" href=\"/posts/415511/revisions\" title=\"show all edits to this post\">edited <span class=\"relativetime\" title=\"2019-12-26 15:57:28Z\">Dec 26 '19 at 15:57</span></a>\n",
      "</div>\n",
      "<div class=\"user-gravatar32\">\n",
      "<a href=\"/users/7851470/georgy\"><div class=\"gravatar-wrapper-32\"><img alt=\"\" class=\"bar-sm\" height=\"32\" src=\"https://www.gravatar.com/avatar/d10f0dc1bc1f340708d6f6b4c8ec3866?s=32&amp;d=identicon&amp;r=PG&amp;f=1\" width=\"32\"/></div></a>\n",
      "</div>\n",
      "<div class=\"user-details\">\n",
      "<a href=\"/users/7851470/georgy\">Georgy</a>\n",
      "<div class=\"-flair\">\n",
      "<span class=\"reputation-score\" dir=\"ltr\" title=\"reputation score \">4,988</span><span aria-hidden=\"true\" title=\"5 gold badges\"><span class=\"badge1\"></span><span class=\"badgecount\">5</span></span><span class=\"v-visible-sr\">5 gold badges</span><span aria-hidden=\"true\" title=\"39 silver badges\"><span class=\"badge2\"></span><span class=\"badgecount\">39</span></span><span class=\"v-visible-sr\">39 silver badges</span><span aria-hidden=\"true\" title=\"49 bronze badges\"><span class=\"badge3\"></span><span class=\"badgecount\">49</span></span><span class=\"v-visible-sr\">49 bronze badges</span>\n",
      "</div>\n",
      "</div>\n",
      "</div> </div>\n",
      "<div class=\"post-signature owner grid--cell\">\n",
      "<div class=\"user-info\">\n",
      "<div class=\"user-action-time\">\r\n",
      "        asked <span class=\"relativetime\" title=\"2009-01-06 04:54:23Z\">Jan 6 '09 at 4:54</span>\n",
      "</div>\n",
      "<div class=\"user-gravatar32\">\n",
      "<a href=\"/users/46646/user46646\"><div class=\"gravatar-wrapper-32\"><img alt=\"\" class=\"bar-sm\" height=\"32\" src=\"https://www.gravatar.com/avatar/a1e278de9bdbf3ecd96d0d786fa97392?s=32&amp;d=identicon&amp;r=PG\" width=\"32\"/></div></a>\n",
      "</div>\n",
      "<div class=\"user-details\" itemprop=\"author\" itemscope=\"\" itemtype=\"http://schema.org/Person\">\n",
      "<a href=\"/users/46646/user46646\">user46646</a><span class=\"d-none\" itemprop=\"name\">user46646</span>\n",
      "<div class=\"-flair\">\n",
      "<span class=\"reputation-score\" dir=\"ltr\" title=\"reputation score 127,301\">127k</span><span aria-hidden=\"true\" title=\"43 gold badges\"><span class=\"badge1\"></span><span class=\"badgecount\">43</span></span><span class=\"v-visible-sr\">43 gold badges</span><span aria-hidden=\"true\" title=\"72 silver badges\"><span class=\"badge2\"></span><span class=\"badgecount\">72</span></span><span class=\"v-visible-sr\">72 silver badges</span><span aria-hidden=\"true\" title=\"82 bronze badges\"><span class=\"badge3\"></span><span class=\"badgecount\">82</span></span><span class=\"v-visible-sr\">82 bronze badges</span>\n",
      "</div>\n",
      "</div>\n",
      "</div>\n",
      "</div>\n",
      "</div>\n",
      "</div>\n",
      "</div>\n",
      "<div class=\"post-layout--right\">\n",
      "<div class=\"comments js-comments-container bt bc-black-075 mt12\" data-min-length=\"15\" data-post-id=\"415511\" id=\"comments-415511\">\n",
      "<ul class=\"comments-list js-comments-list\" data-addlink-disabled=\"true\" data-canpost=\"false\" data-cansee=\"true\" data-comments-unavailable=\"false\" data-remaining-comments-count=\"0\">\n",
      "<li class=\"comment js-comment\" data-comment-id=\"108803504\" id=\"comment-108803504\">\n",
      "<div class=\"js-comment-actions comment-actions\">\n",
      "<div class=\"comment-score js-comment-edit-hide\">\n",
      "<span class=\"warm\" title=\"number of 'useful comment' votes received\">13</span>\n",
      "</div>\n",
      "</div>\n",
      "<div class=\"comment-text js-comment-text-and-form\">\n",
      "<div class=\"comment-body js-comment-edit-hide\">\n",
      "<span class=\"comment-copy\">please note, the most voted answers are for timezonoe-naive datetime, while we see that in production environment more and more services across the world are connected together and timezone-aware datetime become the required standard</span>\r\n",
      "                \r\n",
      "– <a class=\"comment-user\" href=\"/users/1416144/s%c5%82awomir-lenart\" title=\"4,479 reputation\">Sławomir Lenart</a>\n",
      "<span class=\"comment-date\" dir=\"ltr\"><span class=\"relativetime-clean\" title=\"2020-04-29 17:12:44Z, License: CC BY-SA 4.0\">Apr 29 at 17:12</span></span>\n",
      "</div>\n",
      "</div>\n",
      "</li>\n",
      "<li class=\"comment js-comment\" data-comment-id=\"113112419\" id=\"comment-113112419\">\n",
      "<div class=\"js-comment-actions comment-actions\">\n",
      "<div class=\"comment-score js-comment-edit-hide\">\n",
      "</div>\n",
      "</div>\n",
      "<div class=\"comment-text js-comment-text-and-form\">\n",
      "<div class=\"comment-body js-comment-edit-hide\">\n",
      "<span class=\"comment-copy\">also, for django, see <a href=\"https://stackoverflow.com/a/56458580/1526703\">here</a> for timezone-aware</span>\r\n",
      "                \r\n",
      "– <a class=\"comment-user\" href=\"/users/1526703/anupam\" title=\"11,800 reputation\">Anupam</a>\n",
      "<span class=\"comment-date\" dir=\"ltr\"><span class=\"relativetime-clean\" title=\"2020-09-19 06:42:06Z, License: CC BY-SA 4.0\">Sep 19 at 6:42</span></span>\n",
      "<span title=\"this comment was edited 5 times\">\n",
      "<svg aria-hidden=\"true\" class=\"va-text-bottom o50 svg-icon iconPencilSm\" height=\"14\" viewbox=\"0 0 14 14\" width=\"14\"><path d=\"M11.1 1.71l1.13 1.12c.2.2.2.51 0 .71L11.1 4.7 9.21 2.86l1.17-1.15c.2-.2.51-.2.71 0zM2 10.12l6.37-6.43 1.88 1.88L3.88 12H2v-1.88z\"></path></svg>\n",
      "</span>\n",
      "</div>\n",
      "</div>\n",
      "</li>\n",
      "</ul>\n",
      "</div>\n",
      "<div data-anon=\"true\" data-rep=\"50\" id=\"comments-link-415511\">\n",
      "<a class=\"js-add-link comments-link disabled-link\" href=\"#\" role=\"button\" title=\"Use comments to ask for more information or suggest improvements. Avoid answering questions in comments.\">add a comment</a>\n",
      "<span class=\"js-link-separator dno\"> | </span>\n",
      "<a class=\"js-show-link comments-link dno\" href=\"#\" onclick=\"\" role=\"button\" title=\"expand to show all comments on this post\"></a>\n",
      "</div>\n",
      "</div>\n",
      "</div>\n",
      "</div>\n"
     ]
    }
   ],
   "source": [
    "from bs4 import BeautifulSoup\n",
    "from urllib.request import urlopen\n",
    "myurl = \"https://stackoverflow.com/questions/415511/how-to-get-the-current-time-in-python\"\n",
    "html = urlopen(myurl).read()\n",
    "soupified = BeautifulSoup(html, \"html.parser\")\n",
    "question = soupified.find(\"div\", {\"class\": \"question\"})\n",
    "questiontext = question.find(\"div\", {\"class\": \"s-prose js-post-body\"})\n",
    "#print(\"Question: \\n\", questiontext.getText().strip())\n",
    "print(question)\n"
   ]
  },
  {
   "cell_type": "code",
   "execution_count": 7,
   "metadata": {},
   "outputs": [
    {
     "name": "stdout",
     "output_type": "stream",
     "text": [
      "in the nineteenth century the only Kind of linguistics considered\n",
      "seriously was this comparative and historical study of words in languages\n",
      "known or believed to be cognate—say the Semitic languages, or the Indo-\n",
      "European languages. It is significant that the Germans who really made\n",
      "the subject what it was, used the term Indo-germanisch. Those who know\n",
      "the popular works of Otto Jespersen will remember how fitmly he\n",
      "declares that linguistic science is historical. And those who have noticed\n",
      "\f",
      "\n"
     ]
    }
   ],
   "source": [
    "from PIL import Image\n",
    "from pytesseract import image_to_string\n",
    "filename = \"scanned_text.png\"\n",
    "text = image_to_string(Image.open(filename))\n",
    "print(text)"
   ]
  },
  {
   "cell_type": "markdown",
   "metadata": {},
   "source": [
    "### Pre-Processing\n",
    "\n",
    "Preliminaries\n",
    "- Sentence segmentation and word tokenization.\n",
    "\n",
    "Frequent steps\n",
    "- Stop word removal, stemming and lemmatization, removing digits/punctuation, lowercasing, etc.\n",
    "\n",
    "Other steps\n",
    "- Normalization, language detection, code mixing, transliteration, etc.\n",
    "\n",
    "Advanced processing\n",
    "- POS tagging, parsing, coreference resolution, etc."
   ]
  },
  {
   "cell_type": "markdown",
   "metadata": {},
   "source": [
    "#### Preliminaries"
   ]
  },
  {
   "cell_type": "code",
   "execution_count": 8,
   "metadata": {},
   "outputs": [],
   "source": [
    "## SENTENCE SEGMENTATION\n",
    "\n",
    "from nltk.tokenize import sent_tokenize, word_tokenize\n",
    "\n",
    "mytext = \"\"\"A letter of interest is a document used to get your name\n",
    "in front of hiring managers at organizations at which you’re interested in working, \n",
    "but there are currently no open roles that fit your qualifications. \n",
    "This letter has also been referred to as a ‘letter of intent,’ \n",
    "‘statement of interest’ or ‘letter of inquiry’. \n",
    "It contains a broad statement indicating that you’re intrigued \n",
    "by a company and hope to find opportunities there. From there, \n",
    "the hiring manager or recruiter can see if any current or \n",
    "upcoming open roles are in alignment with your skills and experience.\"\"\"\n",
    "\n",
    "my_sentences = sent_tokenize(mytext)\n"
   ]
  },
  {
   "cell_type": "code",
   "execution_count": 9,
   "metadata": {},
   "outputs": [
    {
     "name": "stdout",
     "output_type": "stream",
     "text": [
      "['A letter of interest is a document used to get your name\\nin front of hiring managers at organizations at which you’re interested in working, \\nbut there are currently no open roles that fit your qualifications.', 'This letter has also been referred to as a ‘letter of intent,’ \\n‘statement of interest’ or ‘letter of inquiry’.', 'It contains a broad statement indicating that you’re intrigued \\nby a company and hope to find opportunities there.', 'From there, \\nthe hiring manager or recruiter can see if any current or \\nupcoming open roles are in alignment with your skills and experience.']\n"
     ]
    }
   ],
   "source": [
    "print(my_sentences)"
   ]
  },
  {
   "cell_type": "code",
   "execution_count": 89,
   "metadata": {},
   "outputs": [],
   "source": [
    "### WORD TOKENIZATION"
   ]
  },
  {
   "cell_type": "code",
   "execution_count": 10,
   "metadata": {},
   "outputs": [
    {
     "name": "stdout",
     "output_type": "stream",
     "text": [
      "A letter of interest is a document used to get your name\n",
      "in front of hiring managers at organizations at which you’re interested in working, \n",
      "but there are currently no open roles that fit your qualifications.\n",
      "['A', 'letter', 'of', 'interest', 'is', 'a', 'document', 'used', 'to', 'get', 'your', 'name', 'in', 'front', 'of', 'hiring', 'managers', 'at', 'organizations', 'at', 'which', 'you', '’', 're', 'interested', 'in', 'working', ',', 'but', 'there', 'are', 'currently', 'no', 'open', 'roles', 'that', 'fit', 'your', 'qualifications', '.']\n",
      "This letter has also been referred to as a ‘letter of intent,’ \n",
      "‘statement of interest’ or ‘letter of inquiry’.\n",
      "['This', 'letter', 'has', 'also', 'been', 'referred', 'to', 'as', 'a', '‘', 'letter', 'of', 'intent', ',', '’', '‘', 'statement', 'of', 'interest', '’', 'or', '‘', 'letter', 'of', 'inquiry', '’', '.']\n",
      "It contains a broad statement indicating that you’re intrigued \n",
      "by a company and hope to find opportunities there.\n",
      "['It', 'contains', 'a', 'broad', 'statement', 'indicating', 'that', 'you', '’', 're', 'intrigued', 'by', 'a', 'company', 'and', 'hope', 'to', 'find', 'opportunities', 'there', '.']\n",
      "From there, \n",
      "the hiring manager or recruiter can see if any current or \n",
      "upcoming open roles are in alignment with your skills and experience.\n",
      "['From', 'there', ',', 'the', 'hiring', 'manager', 'or', 'recruiter', 'can', 'see', 'if', 'any', 'current', 'or', 'upcoming', 'open', 'roles', 'are', 'in', 'alignment', 'with', 'your', 'skills', 'and', 'experience', '.']\n"
     ]
    }
   ],
   "source": [
    "for sentence in my_sentences:\n",
    "   print(sentence)\n",
    "   print(word_tokenize(sentence))"
   ]
  },
  {
   "cell_type": "markdown",
   "metadata": {},
   "source": [
    "#### Frequent Steps"
   ]
  },
  {
   "cell_type": "code",
   "execution_count": 91,
   "metadata": {},
   "outputs": [],
   "source": [
    "### Remove Stop words and convert to lower case"
   ]
  },
  {
   "cell_type": "code",
   "execution_count": 11,
   "metadata": {},
   "outputs": [],
   "source": [
    "from nltk.corpus import stopwords\n",
    "stop_words = set(stopwords.words('english')) "
   ]
  },
  {
   "cell_type": "code",
   "execution_count": 12,
   "metadata": {},
   "outputs": [],
   "source": [
    "word_tokens = word_tokenize(mytext.lower())  \n",
    "\n",
    "filtered_sentence = [w for w in word_tokens if not w in stop_words]  \n",
    "  \n",
    "filtered_sentence = []  \n",
    "  \n",
    "for w in word_tokens:  \n",
    "    if w not in stop_words:  \n",
    "        filtered_sentence.append(w)  "
   ]
  },
  {
   "cell_type": "code",
   "execution_count": 14,
   "metadata": {},
   "outputs": [
    {
     "name": "stdout",
     "output_type": "stream",
     "text": [
      "['a', 'letter', 'of', 'interest', 'is', 'a', 'document', 'used', 'to', 'get', 'your', 'name', 'in', 'front', 'of', 'hiring', 'managers', 'at', 'organizations', 'at', 'which', 'you', '’', 're', 'interested', 'in', 'working', ',', 'but', 'there', 'are', 'currently', 'no', 'open', 'roles', 'that', 'fit', 'your', 'qualifications', '.', 'this', 'letter', 'has', 'also', 'been', 'referred', 'to', 'as', 'a', '‘', 'letter', 'of', 'intent', ',', '’', '‘', 'statement', 'of', 'interest', '’', 'or', '‘', 'letter', 'of', 'inquiry', '’', '.', 'it', 'contains', 'a', 'broad', 'statement', 'indicating', 'that', 'you', '’', 're', 'intrigued', 'by', 'a', 'company', 'and', 'hope', 'to', 'find', 'opportunities', 'there', '.', 'from', 'there', ',', 'the', 'hiring', 'manager', 'or', 'recruiter', 'can', 'see', 'if', 'any', 'current', 'or', 'upcoming', 'open', 'roles', 'are', 'in', 'alignment', 'with', 'your', 'skills', 'and', 'experience', '.']\n"
     ]
    }
   ],
   "source": [
    "print(word_tokens)\n"
   ]
  },
  {
   "cell_type": "code",
   "execution_count": 15,
   "metadata": {},
   "outputs": [
    {
     "name": "stdout",
     "output_type": "stream",
     "text": [
      "['letter', 'interest', 'document', 'used', 'get', 'name', 'front', 'hiring', 'managers', 'organizations', '’', 'interested', 'working', ',', 'currently', 'open', 'roles', 'fit', 'qualifications', '.', 'letter', 'also', 'referred', '‘', 'letter', 'intent', ',', '’', '‘', 'statement', 'interest', '’', '‘', 'letter', 'inquiry', '’', '.', 'contains', 'broad', 'statement', 'indicating', '’', 'intrigued', 'company', 'hope', 'find', 'opportunities', '.', ',', 'hiring', 'manager', 'recruiter', 'see', 'current', 'upcoming', 'open', 'roles', 'alignment', 'skills', 'experience', '.']\n"
     ]
    }
   ],
   "source": [
    "print(filtered_sentence) "
   ]
  },
  {
   "cell_type": "code",
   "execution_count": 95,
   "metadata": {},
   "outputs": [],
   "source": [
    "### STEMMING AND LEMMATIZATION"
   ]
  },
  {
   "cell_type": "code",
   "execution_count": 16,
   "metadata": {},
   "outputs": [
    {
     "name": "stdout",
     "output_type": "stream",
     "text": [
      "program implement\n"
     ]
    }
   ],
   "source": [
    "from nltk.stem.porter import PorterStemmer\n",
    "stemmer = PorterStemmer()\n",
    "word1 = \"programs\"\n",
    "word2 = \"implementation\"\n",
    "print(stemmer.stem(word1), stemmer.stem(word2))"
   ]
  },
  {
   "cell_type": "code",
   "execution_count": 18,
   "metadata": {},
   "outputs": [
    {
     "name": "stdout",
     "output_type": "stream",
     "text": [
      "good\n"
     ]
    }
   ],
   "source": [
    "from nltk.stem import WordNetLemmatizer\n",
    "lemmatizer = WordNetLemmatizer()\n",
    "print(lemmatizer.lemmatize(\"better\", pos=\"a\")) #a is for adjective"
   ]
  },
  {
   "cell_type": "code",
   "execution_count": 19,
   "metadata": {},
   "outputs": [
    {
     "name": "stdout",
     "output_type": "stream",
     "text": [
      "better well\n"
     ]
    }
   ],
   "source": [
    "import spacy\n",
    "sp = spacy.load('en_core_web_sm')\n",
    "token = sp(u'better')\n",
    "for word in token:\n",
    "   print(word.text,  word.lemma_)"
   ]
  },
  {
   "cell_type": "markdown",
   "metadata": {},
   "source": [
    "### OTHER PRE-PROCESSING STEPS\n",
    "\n",
    "- Text Normalization\n",
    "- Language Detection\n",
    "- Code Mixing and Translation"
   ]
  },
  {
   "cell_type": "markdown",
   "metadata": {},
   "source": [
    "### Advanced Processing"
   ]
  },
  {
   "cell_type": "markdown",
   "metadata": {},
   "source": [
    "#### Part of Speech\n",
    "- NER\n",
    "- Relation Extraction\n",
    "- Coreference Resolution"
   ]
  },
  {
   "cell_type": "code",
   "execution_count": 99,
   "metadata": {},
   "outputs": [
    {
     "name": "stdout",
     "output_type": "stream",
     "text": [
      "Charles Charles PROPN Xxxxx True False\n",
      "Spencer Spencer PROPN Xxxxx True False\n",
      "Chaplin Chaplin PROPN Xxxxx True False\n",
      "was be AUX xxx True True\n",
      "born bear VERB xxxx True False\n",
      "on on ADP xx True True\n",
      "16 16 NUM dd False False\n",
      "April April PROPN Xxxxx True False\n",
      "1889 1889 NUM dddd False False\n",
      "to to ADP xx True True\n",
      "Hannah Hannah PROPN Xxxxx True False\n",
      "Chaplin Chaplin PROPN Xxxxx True False\n"
     ]
    }
   ],
   "source": [
    "import spacy\n",
    "nlp = spacy.load('en_core_web_sm')\n",
    "doc = nlp(u'Charles Spencer Chaplin was born on 16 April 1889 to Hannah Chaplin')\n",
    "for token in doc:\n",
    "    print(token.text, token.lemma_, token.pos_,\n",
    "          token.shape_, token.is_alpha, token.is_stop)"
   ]
  },
  {
   "cell_type": "code",
   "execution_count": 100,
   "metadata": {},
   "outputs": [
    {
     "name": "stdout",
     "output_type": "stream",
     "text": [
      "Chaplin Chaplin PROPN Xxxxx True False\n",
      "wrote write VERB xxxx True False\n",
      ", , PUNCT , False False\n",
      "directed direct VERB xxxx True False\n",
      "and and CCONJ xxx True True\n",
      "composed compose VERB xxxx True False\n",
      "music music NOUN xxxx True False\n",
      "for for ADP xxx True True\n",
      "most most ADJ xxxx True True\n",
      "of of ADP xx True True\n",
      "his -PRON- DET xxx True True\n",
      "movies movie NOUN xxxx True False\n"
     ]
    }
   ],
   "source": [
    "doc = nlp(u'Chaplin wrote,directed and composed music for most of his movies')\n",
    "for token in doc:\n",
    "    print(token.text, token.lemma_, token.pos_,\n",
    "          token.shape_, token.is_alpha, token.is_stop)"
   ]
  },
  {
   "cell_type": "code",
   "execution_count": 103,
   "metadata": {},
   "outputs": [
    {
     "data": {
      "text/html": [
       "<img src=\"nlp_feature_engineering.png\"/>"
      ],
      "text/plain": [
       "<IPython.core.display.Image object>"
      ]
     },
     "execution_count": 103,
     "metadata": {},
     "output_type": "execute_result"
    }
   ],
   "source": [
    "from IPython.display import Image\n",
    "from IPython.core.display import HTML \n",
    "Image(url= \"nlp_feature_engineering.png\")"
   ]
  },
  {
   "cell_type": "code",
   "execution_count": null,
   "metadata": {},
   "outputs": [],
   "source": []
  }
 ],
 "metadata": {
  "kernelspec": {
   "display_name": "Python 3",
   "language": "python",
   "name": "python3"
  },
  "language_info": {
   "codemirror_mode": {
    "name": "ipython",
    "version": 3
   },
   "file_extension": ".py",
   "mimetype": "text/x-python",
   "name": "python",
   "nbconvert_exporter": "python",
   "pygments_lexer": "ipython3",
   "version": "3.8.3"
  }
 },
 "nbformat": 4,
 "nbformat_minor": 4
}
